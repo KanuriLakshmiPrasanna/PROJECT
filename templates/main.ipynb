{
 "cells": [
  {
   "cell_type": "code",
   "execution_count": null,
   "metadata": {},
   "outputs": [],
   "source": [
    "!pip install pytesseract opencv-python-headless\n",
    "\n",
    "import cv2\n",
    "import pytesseract\n",
    "import numpy as np\n",
    "\n",
    "def extract_text_from_image(image_path):\n",
    "    # Load the image from path\n",
    "    image = cv2.imread(image_path)\n",
    "\n",
    "    # Convert the image to gray scale\n",
    "    gray = cv2.cvtColor(image, cv2.COLOR_BGR2GRAY)\n",
    "\n",
    "    # Apply adaptive thresholding to convert the image to binary\n",
    "    binary = cv2.adaptiveThreshold(gray, 255, cv2.ADAPTIVE_THRESH_GAUSSIAN_C, cv2.THRESH_BINARY, 11, 2)\n",
    "\n",
    "    # Perform OCR on the binary image\n",
    "    custom_config = r'--oem 3 --psm 6'\n",
    "    text = pytesseract.image_to_string(binary, config=custom_config)\n",
    "\n",
    "    return text\n",
    "\n",
    "# Usage:\n",
    "image_path = 'path_to_your_image.png'  # replace with your image path\n",
    "print(extract_text_from_image(image_path))\n"
   ]
  }
 ],
 "metadata": {
  "language_info": {
   "name": "python"
  }
 },
 "nbformat": 4,
 "nbformat_minor": 2
}
